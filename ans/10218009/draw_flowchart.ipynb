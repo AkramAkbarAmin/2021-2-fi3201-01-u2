{
  "cells": [
    {
      "cell_type": "markdown",
      "id": "1a7a4c3d",
      "metadata": {
        "id": "1a7a4c3d"
      },
      "source": [
        "# draw_flowchart\n",
        "Dengan menggunakan [Mermaid](https://mermaid-js.github.io/mermaid/#/) dapat dibuat beraneka [diagram alir](https://mermaid-js.github.io/mermaid/#/flowchart)."
      ]
    },
    {
      "cell_type": "code",
      "source": [
        "!pip install --upgrade nb-js-diagrammers"
      ],
      "metadata": {
        "colab": {
          "base_uri": "https://localhost:8080/"
        },
        "id": "MgwwNx85mT0w",
        "outputId": "8d07363d-5376-49d6-e840-99b138b53436"
      },
      "id": "MgwwNx85mT0w",
      "execution_count": 2,
      "outputs": [
        {
          "output_type": "stream",
          "name": "stdout",
          "text": [
            "Collecting nb-js-diagrammers\n",
            "  Downloading nb_js_diagrammers-0.0.7-py3-none-any.whl (8.8 kB)\n",
            "Collecting pyflowchart\n",
            "  Downloading pyflowchart-0.2.3-py3-none-any.whl (18 kB)\n",
            "Requirement already satisfied: astunparse in /usr/local/lib/python3.7/dist-packages (from pyflowchart->nb-js-diagrammers) (1.6.3)\n",
            "Requirement already satisfied: chardet in /usr/local/lib/python3.7/dist-packages (from pyflowchart->nb-js-diagrammers) (3.0.4)\n",
            "Requirement already satisfied: wheel<1.0,>=0.23.0 in /usr/local/lib/python3.7/dist-packages (from astunparse->pyflowchart->nb-js-diagrammers) (0.37.1)\n",
            "Requirement already satisfied: six<2.0,>=1.6.1 in /usr/local/lib/python3.7/dist-packages (from astunparse->pyflowchart->nb-js-diagrammers) (1.15.0)\n",
            "Installing collected packages: pyflowchart, nb-js-diagrammers\n",
            "Successfully installed nb-js-diagrammers-0.0.7 pyflowchart-0.2.3\n"
          ]
        }
      ]
    },
    {
      "cell_type": "code",
      "execution_count": 3,
      "id": "48bfe9eb",
      "metadata": {
        "id": "48bfe9eb"
      },
      "outputs": [],
      "source": [
        "%load_ext nb_js_diagrammers"
      ]
    },
    {
      "cell_type": "markdown",
      "id": "9ef5818b",
      "metadata": {
        "id": "9ef5818b"
      },
      "source": [
        "## sign\n",
        "Suatu variabel $x$ dapat dapat memiliki tanda positif (+1), nol (0) atau negativ (-1) mengikuti\n",
        "\n",
        "<a name='eqn1'></a>\n",
        "\\begin{equation}\\tag{1}\n",
        "{\\rm sign}(x) = \\left\\{\n",
        "\\begin{array}{rl}\n",
        "+1, & x > 0\\newline\n",
        "0, & x = 0 \\newline\n",
        "-1, & x < 0.\n",
        "\\end{array}\n",
        "\\right.\n",
        "\\end{equation}\n",
        "\n",
        "Persamaan ([1](#eqn1)) ini dipergunakan salah satunya untuk menentukan arah dari suatu vektor."
      ]
    },
    {
      "cell_type": "markdown",
      "id": "978f3b5e",
      "metadata": {
        "id": "978f3b5e"
      },
      "source": [
        "## example\n",
        "Berikut ini adalah contoh penggunaan Mermaid untuk membuat diagram alir menentukan tanda dari suatu bilangan."
      ]
    },
    {
      "cell_type": "code",
      "execution_count": 4,
      "id": "54fd872a",
      "metadata": {
        "colab": {
          "base_uri": "https://localhost:8080/",
          "height": 741
        },
        "id": "54fd872a",
        "outputId": "e2d845a7-357c-4498-deaf-61973392600b"
      },
      "outputs": [
        {
          "output_type": "execute_result",
          "data": {
            "text/plain": [
              "<nb_js_diagrammers.magics.JSDiagram at 0x7f4988f72790>"
            ],
            "text/html": [
              "<iframe srcdoc=\"&lt;html&gt;\n",
              "    &lt;body&gt;\n",
              "        &lt;script src=&quot;https://cdn.jsdelivr.net/npm/mermaid/dist/mermaid.min.js&quot;&gt;&lt;/script&gt;\n",
              "        &lt;script&gt;\n",
              "            mermaid.initialize({ startOnLoad: true });\n",
              "        &lt;/script&gt;\n",
              " \n",
              "        &lt;div class=&quot;mermaid&quot;&gt;\n",
              "            \n",
              "flowchart TD\n",
              "    B([ Mulai ]);\n",
              "    E([ Selesai ]);\n",
              "    I[/ x /];\n",
              "    D1{ x &gt; 0};\n",
              "    D2{ x = 0};\n",
              "    S1[ sign = 1];\n",
              "    S2[ sign = 0];\n",
              "    S3[ sign = -1];\n",
              "    O[/ sign /];\n",
              "    B --&gt; I;\n",
              "    I --&gt; D1;\n",
              "    D1 -- Y --&gt; S1;\n",
              "    D1 -- T --&gt; D2;\n",
              "    D2 -- T --&gt; S3;\n",
              "    D2 -- Y --&gt; S2;\n",
              "    S1 --&gt; O;\n",
              "    S2 --&gt; O;\n",
              "    S3 --&gt; O;\n",
              "    O --&gt; E;\n",
              "        &lt;/div&gt;\n",
              " \n",
              "    &lt;/body&gt;\n",
              "&lt;/html&gt;\n",
              "\" width=\"100%\" height=\"720\"style=\"border:none !important;\" \"allowfullscreen\" \"webkitallowfullscreen\" \"mozallowfullscreen\"></iframe>"
            ]
          },
          "metadata": {},
          "execution_count": 4
        }
      ],
      "source": [
        "%%mermaid_magic -h 720\n",
        "\n",
        "flowchart TD\n",
        "    B([ Mulai ]);\n",
        "    E([ Selesai ]);\n",
        "    I[/ x /];\n",
        "    D1{ x > 0};\n",
        "    D2{ x = 0};\n",
        "    S1[ sign = 1];\n",
        "    S2[ sign = 0];\n",
        "    S3[ sign = -1];\n",
        "    O[/ sign /];\n",
        "    B --> I;\n",
        "    I --> D1;\n",
        "    D1 -- Y --> S1;\n",
        "    D1 -- T --> D2;\n",
        "    D2 -- T --> S3;\n",
        "    D2 -- Y --> S2;\n",
        "    S1 --> O;\n",
        "    S2 --> O;\n",
        "    S3 --> O;\n",
        "    O --> E;"
      ]
    },
    {
      "cell_type": "markdown",
      "id": "0b0e2ae1",
      "metadata": {
        "id": "0b0e2ae1"
      },
      "source": [
        "Diagram alir di atas merupakan penerapan dari menurut Persamaan ([1](#eqn1))."
      ]
    },
    {
      "cell_type": "markdown",
      "id": "a8cd565e",
      "metadata": {
        "id": "a8cd565e"
      },
      "source": [
        "Untuk dapat menggambarkan diagram alir di atas secara lokal perlu dinstal [nb-js-diagrammers](https://pypi.org/project/nb-js-diagrammers/0.0.7/). Dan untuk melihatnya di GitHub cukup dibuat suatu berkas Markdown seperti [draw_flowchart_sign.md](draw_flowchart_sign.md)."
      ]
    },
    {
      "cell_type": "markdown",
      "id": "2ca1a9dd",
      "metadata": {
        "id": "2ca1a9dd"
      },
      "source": [
        "## comparing two number\n",
        "Salah satu diagram alir untuk membandingkan dua buah bilangan adalah sebagai berikut.\n",
        "\n",
        "![](draw_flowchart_compare_two_numbers.png)\n",
        "\n",
        "Koreksi kode berikut untuk mendapatkan hasil di atas."
      ]
    },
    {
      "cell_type": "code",
      "execution_count": 5,
      "id": "b9ae6a9d",
      "metadata": {
        "colab": {
          "base_uri": "https://localhost:8080/",
          "height": 181
        },
        "id": "b9ae6a9d",
        "outputId": "68938685-2579-4558-de1a-1419ec70c593"
      },
      "outputs": [
        {
          "output_type": "execute_result",
          "data": {
            "text/plain": [
              "<nb_js_diagrammers.magics.JSDiagram at 0x7f4989639ed0>"
            ],
            "text/html": [
              "<iframe srcdoc=\"&lt;html&gt;\n",
              "    &lt;body&gt;\n",
              "        &lt;script src=&quot;https://cdn.jsdelivr.net/npm/mermaid/dist/mermaid.min.js&quot;&gt;&lt;/script&gt;\n",
              "        &lt;script&gt;\n",
              "            mermaid.initialize({ startOnLoad: true });\n",
              "        &lt;/script&gt;\n",
              " \n",
              "        &lt;div class=&quot;mermaid&quot;&gt;\n",
              "            \n",
              "flowchart TD\n",
              "    B([ Mulai ]);\n",
              "    E([ Selesai ]);\n",
              "    B --&gt; E;\n",
              "        &lt;/div&gt;\n",
              " \n",
              "    &lt;/body&gt;\n",
              "&lt;/html&gt;\n",
              "\" width=\"100%\" height=\"160\"style=\"border:none !important;\" \"allowfullscreen\" \"webkitallowfullscreen\" \"mozallowfullscreen\"></iframe>"
            ]
          },
          "metadata": {},
          "execution_count": 5
        }
      ],
      "source": [
        "%%mermaid_magic -h 160\n",
        "\n",
        "flowchart TD\n",
        "    B([ Mulai ]);\n",
        "    E([ Selesai ]);\n",
        "    B --> E;"
      ]
    },
    {
      "cell_type": "markdown",
      "id": "bd61bc84",
      "metadata": {
        "id": "bd61bc84"
      },
      "source": [
        "Hasil kode di atas dapat dilihat pada berkas [draw_flowchart_compare_two_numbers.md](draw_flowchart_compare_two_numbers.md)."
      ]
    },
    {
      "cell_type": "markdown",
      "id": "2309ce38",
      "metadata": {
        "id": "2309ce38"
      },
      "source": [
        "# Jawaban\n",
        "Untuk mendapatkan flowchart seperti diatas, koreksi kode dan output yang dihasilkan sebagai berikut:"
      ]
    },
    {
      "cell_type": "code",
      "execution_count": 6,
      "id": "6c6f9a4a",
      "metadata": {
        "colab": {
          "base_uri": "https://localhost:8080/",
          "height": 741
        },
        "id": "6c6f9a4a",
        "outputId": "86e8c007-616d-479e-e1f2-68dc2a123428"
      },
      "outputs": [
        {
          "output_type": "execute_result",
          "data": {
            "text/plain": [
              "<nb_js_diagrammers.magics.JSDiagram at 0x7f49896392d0>"
            ],
            "text/html": [
              "<iframe srcdoc=\"&lt;html&gt;\n",
              "    &lt;body&gt;\n",
              "        &lt;script src=&quot;https://cdn.jsdelivr.net/npm/mermaid/dist/mermaid.min.js&quot;&gt;&lt;/script&gt;\n",
              "        &lt;script&gt;\n",
              "            mermaid.initialize({ startOnLoad: true });\n",
              "        &lt;/script&gt;\n",
              " \n",
              "        &lt;div class=&quot;mermaid&quot;&gt;\n",
              "            \n",
              "flowchart TD\n",
              "    B([ Mulai ]);\n",
              "    E([ Selesai ]);\n",
              "    I[/ x, y /];\n",
              "    D1{ x &gt; y};\n",
              "    D2{ x = y};\n",
              "    S1[ s = &#x27;x &gt; y&#x27;];\n",
              "    S2[ s = &#x27;x &lt; y&#x27;];\n",
              "    S3[ s = &#x27;x = y&#x27;];\n",
              "    O[/ s /];\n",
              "    B --&gt; I;\n",
              "    I --&gt; D1;\n",
              "    D1 -- Y --&gt; S1;\n",
              "    D1 -- T --&gt; D2;\n",
              "    D2 -- Y --&gt; S3;\n",
              "    D2 -- T --&gt; S2;\n",
              "    S1 --&gt; O;\n",
              "    S2 --&gt; O;\n",
              "    S3 --&gt; O;\n",
              "    O --&gt; E;\n",
              "        &lt;/div&gt;\n",
              " \n",
              "    &lt;/body&gt;\n",
              "&lt;/html&gt;\n",
              "\" width=\"100%\" height=\"720\"style=\"border:none !important;\" \"allowfullscreen\" \"webkitallowfullscreen\" \"mozallowfullscreen\"></iframe>"
            ]
          },
          "metadata": {},
          "execution_count": 6
        }
      ],
      "source": [
        "%%mermaid_magic -h 720\n",
        "\n",
        "flowchart TD\n",
        "    B([ Mulai ]);\n",
        "    E([ Selesai ]);\n",
        "    I[/ x, y /];\n",
        "    D1{ x > y};\n",
        "    D2{ x = y};\n",
        "    S1[ s = 'x > y'];\n",
        "    S2[ s = 'x < y'];\n",
        "    S3[ s = 'x = y'];\n",
        "    O[/ s /];\n",
        "    B --> I;\n",
        "    I --> D1;\n",
        "    D1 -- Y --> S1;\n",
        "    D1 -- T --> D2;\n",
        "    D2 -- Y --> S3;\n",
        "    D2 -- T --> S2;\n",
        "    S1 --> O;\n",
        "    S2 --> O;\n",
        "    S3 --> O;\n",
        "    O --> E;"
      ]
    }
  ],
  "metadata": {
    "kernelspec": {
      "display_name": "Python 3 (ipykernel)",
      "language": "python",
      "name": "python3"
    },
    "language_info": {
      "codemirror_mode": {
        "name": "ipython",
        "version": 3
      },
      "file_extension": ".py",
      "mimetype": "text/x-python",
      "name": "python",
      "nbconvert_exporter": "python",
      "pygments_lexer": "ipython3",
      "version": "3.9.7"
    },
    "colab": {
      "name": "draw_flowchart.ipynb",
      "provenance": []
    }
  },
  "nbformat": 4,
  "nbformat_minor": 5
}